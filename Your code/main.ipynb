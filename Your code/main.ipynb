{
 "cells": [
  {
   "cell_type": "markdown",
   "metadata": {},
   "source": [
    "### Importing needed libraries:"
   ]
  },
  {
   "cell_type": "code",
   "execution_count": 1,
   "metadata": {},
   "outputs": [],
   "source": [
    "import json\n",
    "import requests\n",
    "import numpy as np\n",
    "import pandas as pd\n",
    "from bs4 import BeautifulSoup"
   ]
  },
  {
   "cell_type": "markdown",
   "metadata": {},
   "source": [
    "### Importing GitHub token:"
   ]
  },
  {
   "cell_type": "code",
   "execution_count": 2,
   "metadata": {},
   "outputs": [
    {
     "name": "stdout",
     "output_type": "stream",
     "text": [
      "  % Total    % Received % Xferd  Average Speed   Time    Time     Time  Current\n",
      "                                 Dload  Upload   Total   Spent    Left  Speed\n",
      "100  1523  100  1523    0     0   4559      0 --:--:-- --:--:-- --:--:--  4546\n"
     ]
    }
   ],
   "source": [
    "!curl -u eiroamd:30b17715e062eb37ea1c75124c5728c1032e8709 https://api.github.com/user > output.json"
   ]
  },
  {
   "cell_type": "markdown",
   "metadata": {},
   "source": [
    "### Challenge 1: Fork Languages"
   ]
  },
  {
   "cell_type": "code",
   "execution_count": 3,
   "metadata": {},
   "outputs": [
    {
     "name": "stdout",
     "output_type": "stream",
     "text": [
      "  % Total    % Received % Xferd  Average Speed   Time    Time     Time  Current\n",
      "                                 Dload  Upload   Total   Spent    Left  Speed\n",
      "100  155k  100  155k    0     0   222k      0 --:--:-- --:--:-- --:--:--  222k\n"
     ]
    }
   ],
   "source": [
    "!curl -u eiroamd:30b17715e062eb37ea1c75124c5728c1032e8709 https://api.github.com/users/ta-datapt-bcn/repos > output_dataptbcn_repos.json"
   ]
  },
  {
   "cell_type": "markdown",
   "metadata": {},
   "source": [
    "Reading from the downloaded json and make a dataframe.\n",
    "Could not make it to get the json directly as a url with requests"
   ]
  },
  {
   "cell_type": "code",
   "execution_count": 4,
   "metadata": {},
   "outputs": [],
   "source": [
    "dataptbcn_repos = pd.read_json('output_dataptbcn_repos.json')"
   ]
  },
  {
   "cell_type": "code",
   "execution_count": 5,
   "metadata": {},
   "outputs": [],
   "source": [
    "dataptbcn_repos = pd.DataFrame(dataptbcn_repos)"
   ]
  },
  {
   "cell_type": "markdown",
   "metadata": {},
   "source": [
    "Investigate columns to find the language one:"
   ]
  },
  {
   "cell_type": "code",
   "execution_count": 6,
   "metadata": {},
   "outputs": [
    {
     "data": {
      "text/plain": [
       "Index(['archive_url', 'archived', 'assignees_url', 'blobs_url', 'branches_url',\n",
       "       'clone_url', 'collaborators_url', 'comments_url', 'commits_url',\n",
       "       'compare_url', 'contents_url', 'contributors_url', 'created_at',\n",
       "       'default_branch', 'deployments_url', 'description', 'disabled',\n",
       "       'downloads_url', 'events_url', 'fork', 'forks', 'forks_count',\n",
       "       'forks_url', 'full_name', 'git_commits_url', 'git_refs_url',\n",
       "       'git_tags_url', 'git_url', 'has_downloads', 'has_issues', 'has_pages',\n",
       "       'has_projects', 'has_wiki', 'homepage', 'hooks_url', 'html_url', 'id',\n",
       "       'issue_comment_url', 'issue_events_url', 'issues_url', 'keys_url',\n",
       "       'labels_url', 'language', 'languages_url', 'license', 'merges_url',\n",
       "       'milestones_url', 'mirror_url', 'name', 'node_id', 'notifications_url',\n",
       "       'open_issues', 'open_issues_count', 'owner', 'permissions', 'private',\n",
       "       'pulls_url', 'pushed_at', 'releases_url', 'size', 'ssh_url',\n",
       "       'stargazers_count', 'stargazers_url', 'statuses_url', 'subscribers_url',\n",
       "       'subscription_url', 'svn_url', 'tags_url', 'teams_url', 'trees_url',\n",
       "       'updated_at', 'url', 'watchers', 'watchers_count'],\n",
       "      dtype='object')"
      ]
     },
     "execution_count": 6,
     "metadata": {},
     "output_type": "execute_result"
    }
   ],
   "source": [
    "dataptbcn_repos.columns"
   ]
  },
  {
   "cell_type": "markdown",
   "metadata": {},
   "source": [
    "Full list of forks:"
   ]
  },
  {
   "cell_type": "code",
   "execution_count": 7,
   "metadata": {},
   "outputs": [
    {
     "data": {
      "text/html": [
       "<div>\n",
       "<style scoped>\n",
       "    .dataframe tbody tr th:only-of-type {\n",
       "        vertical-align: middle;\n",
       "    }\n",
       "\n",
       "    .dataframe tbody tr th {\n",
       "        vertical-align: top;\n",
       "    }\n",
       "\n",
       "    .dataframe thead th {\n",
       "        text-align: right;\n",
       "    }\n",
       "</style>\n",
       "<table border=\"1\" class=\"dataframe\">\n",
       "  <thead>\n",
       "    <tr style=\"text-align: right;\">\n",
       "      <th></th>\n",
       "      <th>forks_url</th>\n",
       "      <th>forks</th>\n",
       "      <th>language</th>\n",
       "    </tr>\n",
       "  </thead>\n",
       "  <tbody>\n",
       "    <tr>\n",
       "      <th>0</th>\n",
       "      <td>https://api.github.com/repos/ta-datapt-bcn/dat...</td>\n",
       "      <td>0</td>\n",
       "      <td>Jupyter Notebook</td>\n",
       "    </tr>\n",
       "    <tr>\n",
       "      <th>1</th>\n",
       "      <td>https://api.github.com/repos/ta-datapt-bcn/kat...</td>\n",
       "      <td>0</td>\n",
       "      <td>None</td>\n",
       "    </tr>\n",
       "    <tr>\n",
       "      <th>2</th>\n",
       "      <td>https://api.github.com/repos/ta-datapt-bcn/lab...</td>\n",
       "      <td>11</td>\n",
       "      <td>Jupyter Notebook</td>\n",
       "    </tr>\n",
       "    <tr>\n",
       "      <th>3</th>\n",
       "      <td>https://api.github.com/repos/ta-datapt-bcn/lab...</td>\n",
       "      <td>9</td>\n",
       "      <td>None</td>\n",
       "    </tr>\n",
       "    <tr>\n",
       "      <th>4</th>\n",
       "      <td>https://api.github.com/repos/ta-datapt-bcn/lab...</td>\n",
       "      <td>10</td>\n",
       "      <td>Jupyter Notebook</td>\n",
       "    </tr>\n",
       "    <tr>\n",
       "      <th>5</th>\n",
       "      <td>https://api.github.com/repos/ta-datapt-bcn/lab...</td>\n",
       "      <td>7</td>\n",
       "      <td>None</td>\n",
       "    </tr>\n",
       "    <tr>\n",
       "      <th>6</th>\n",
       "      <td>https://api.github.com/repos/ta-datapt-bcn/lab...</td>\n",
       "      <td>10</td>\n",
       "      <td>Jupyter Notebook</td>\n",
       "    </tr>\n",
       "    <tr>\n",
       "      <th>7</th>\n",
       "      <td>https://api.github.com/repos/ta-datapt-bcn/lab...</td>\n",
       "      <td>9</td>\n",
       "      <td>Jupyter Notebook</td>\n",
       "    </tr>\n",
       "    <tr>\n",
       "      <th>8</th>\n",
       "      <td>https://api.github.com/repos/ta-datapt-bcn/lab...</td>\n",
       "      <td>10</td>\n",
       "      <td>HTML</td>\n",
       "    </tr>\n",
       "    <tr>\n",
       "      <th>9</th>\n",
       "      <td>https://api.github.com/repos/ta-datapt-bcn/lab...</td>\n",
       "      <td>10</td>\n",
       "      <td>None</td>\n",
       "    </tr>\n",
       "    <tr>\n",
       "      <th>10</th>\n",
       "      <td>https://api.github.com/repos/ta-datapt-bcn/lab...</td>\n",
       "      <td>9</td>\n",
       "      <td>Jupyter Notebook</td>\n",
       "    </tr>\n",
       "    <tr>\n",
       "      <th>11</th>\n",
       "      <td>https://api.github.com/repos/ta-datapt-bcn/lab...</td>\n",
       "      <td>10</td>\n",
       "      <td>Jupyter Notebook</td>\n",
       "    </tr>\n",
       "    <tr>\n",
       "      <th>12</th>\n",
       "      <td>https://api.github.com/repos/ta-datapt-bcn/lab...</td>\n",
       "      <td>13</td>\n",
       "      <td>Jupyter Notebook</td>\n",
       "    </tr>\n",
       "    <tr>\n",
       "      <th>13</th>\n",
       "      <td>https://api.github.com/repos/ta-datapt-bcn/lab...</td>\n",
       "      <td>10</td>\n",
       "      <td>Jupyter Notebook</td>\n",
       "    </tr>\n",
       "    <tr>\n",
       "      <th>14</th>\n",
       "      <td>https://api.github.com/repos/ta-datapt-bcn/lab...</td>\n",
       "      <td>10</td>\n",
       "      <td>Jupyter Notebook</td>\n",
       "    </tr>\n",
       "    <tr>\n",
       "      <th>15</th>\n",
       "      <td>https://api.github.com/repos/ta-datapt-bcn/lab...</td>\n",
       "      <td>10</td>\n",
       "      <td>Jupyter Notebook</td>\n",
       "    </tr>\n",
       "    <tr>\n",
       "      <th>16</th>\n",
       "      <td>https://api.github.com/repos/ta-datapt-bcn/lab...</td>\n",
       "      <td>10</td>\n",
       "      <td>Jupyter Notebook</td>\n",
       "    </tr>\n",
       "    <tr>\n",
       "      <th>17</th>\n",
       "      <td>https://api.github.com/repos/ta-datapt-bcn/lab...</td>\n",
       "      <td>0</td>\n",
       "      <td>Jupyter Notebook</td>\n",
       "    </tr>\n",
       "    <tr>\n",
       "      <th>18</th>\n",
       "      <td>https://api.github.com/repos/ta-datapt-bcn/lab...</td>\n",
       "      <td>9</td>\n",
       "      <td>None</td>\n",
       "    </tr>\n",
       "    <tr>\n",
       "      <th>19</th>\n",
       "      <td>https://api.github.com/repos/ta-datapt-bcn/lab...</td>\n",
       "      <td>10</td>\n",
       "      <td>None</td>\n",
       "    </tr>\n",
       "    <tr>\n",
       "      <th>20</th>\n",
       "      <td>https://api.github.com/repos/ta-datapt-bcn/lab...</td>\n",
       "      <td>10</td>\n",
       "      <td>Jupyter Notebook</td>\n",
       "    </tr>\n",
       "    <tr>\n",
       "      <th>21</th>\n",
       "      <td>https://api.github.com/repos/ta-datapt-bcn/lab...</td>\n",
       "      <td>12</td>\n",
       "      <td>Jupyter Notebook</td>\n",
       "    </tr>\n",
       "    <tr>\n",
       "      <th>22</th>\n",
       "      <td>https://api.github.com/repos/ta-datapt-bcn/lab...</td>\n",
       "      <td>10</td>\n",
       "      <td>Jupyter Notebook</td>\n",
       "    </tr>\n",
       "    <tr>\n",
       "      <th>23</th>\n",
       "      <td>https://api.github.com/repos/ta-datapt-bcn/lab...</td>\n",
       "      <td>1</td>\n",
       "      <td>HTML</td>\n",
       "    </tr>\n",
       "    <tr>\n",
       "      <th>24</th>\n",
       "      <td>https://api.github.com/repos/ta-datapt-bcn/pro...</td>\n",
       "      <td>10</td>\n",
       "      <td>None</td>\n",
       "    </tr>\n",
       "    <tr>\n",
       "      <th>25</th>\n",
       "      <td>https://api.github.com/repos/ta-datapt-bcn/pyt...</td>\n",
       "      <td>10</td>\n",
       "      <td>Jupyter Notebook</td>\n",
       "    </tr>\n",
       "  </tbody>\n",
       "</table>\n",
       "</div>"
      ],
      "text/plain": [
       "                                            forks_url  forks          language\n",
       "0   https://api.github.com/repos/ta-datapt-bcn/dat...      0  Jupyter Notebook\n",
       "1   https://api.github.com/repos/ta-datapt-bcn/kat...      0              None\n",
       "2   https://api.github.com/repos/ta-datapt-bcn/lab...     11  Jupyter Notebook\n",
       "3   https://api.github.com/repos/ta-datapt-bcn/lab...      9              None\n",
       "4   https://api.github.com/repos/ta-datapt-bcn/lab...     10  Jupyter Notebook\n",
       "5   https://api.github.com/repos/ta-datapt-bcn/lab...      7              None\n",
       "6   https://api.github.com/repos/ta-datapt-bcn/lab...     10  Jupyter Notebook\n",
       "7   https://api.github.com/repos/ta-datapt-bcn/lab...      9  Jupyter Notebook\n",
       "8   https://api.github.com/repos/ta-datapt-bcn/lab...     10              HTML\n",
       "9   https://api.github.com/repos/ta-datapt-bcn/lab...     10              None\n",
       "10  https://api.github.com/repos/ta-datapt-bcn/lab...      9  Jupyter Notebook\n",
       "11  https://api.github.com/repos/ta-datapt-bcn/lab...     10  Jupyter Notebook\n",
       "12  https://api.github.com/repos/ta-datapt-bcn/lab...     13  Jupyter Notebook\n",
       "13  https://api.github.com/repos/ta-datapt-bcn/lab...     10  Jupyter Notebook\n",
       "14  https://api.github.com/repos/ta-datapt-bcn/lab...     10  Jupyter Notebook\n",
       "15  https://api.github.com/repos/ta-datapt-bcn/lab...     10  Jupyter Notebook\n",
       "16  https://api.github.com/repos/ta-datapt-bcn/lab...     10  Jupyter Notebook\n",
       "17  https://api.github.com/repos/ta-datapt-bcn/lab...      0  Jupyter Notebook\n",
       "18  https://api.github.com/repos/ta-datapt-bcn/lab...      9              None\n",
       "19  https://api.github.com/repos/ta-datapt-bcn/lab...     10              None\n",
       "20  https://api.github.com/repos/ta-datapt-bcn/lab...     10  Jupyter Notebook\n",
       "21  https://api.github.com/repos/ta-datapt-bcn/lab...     12  Jupyter Notebook\n",
       "22  https://api.github.com/repos/ta-datapt-bcn/lab...     10  Jupyter Notebook\n",
       "23  https://api.github.com/repos/ta-datapt-bcn/lab...      1              HTML\n",
       "24  https://api.github.com/repos/ta-datapt-bcn/pro...     10              None\n",
       "25  https://api.github.com/repos/ta-datapt-bcn/pyt...     10  Jupyter Notebook"
      ]
     },
     "execution_count": 7,
     "metadata": {},
     "output_type": "execute_result"
    }
   ],
   "source": [
    "dataptbcn_repos[['forks_url','forks','language']]"
   ]
  },
  {
   "cell_type": "code",
   "execution_count": 8,
   "metadata": {},
   "outputs": [
    {
     "data": {
      "text/plain": [
       "0    Jupyter Notebook\n",
       "1                None\n",
       "2    Jupyter Notebook\n",
       "3                None\n",
       "4    Jupyter Notebook\n",
       "Name: language, dtype: object"
      ]
     },
     "execution_count": 8,
     "metadata": {},
     "output_type": "execute_result"
    }
   ],
   "source": [
    "dataptbcn_repos['language'].head()"
   ]
  },
  {
   "cell_type": "markdown",
   "metadata": {},
   "source": [
    "Get unique programming languages:"
   ]
  },
  {
   "cell_type": "code",
   "execution_count": 9,
   "metadata": {},
   "outputs": [
    {
     "data": {
      "text/plain": [
       "[None, 'Jupyter Notebook', 'HTML']"
      ]
     },
     "execution_count": 9,
     "metadata": {},
     "output_type": "execute_result"
    }
   ],
   "source": [
    "fork_langs = list(set(dataptbcn_repos['language']))\n",
    "fork_langs"
   ]
  },
  {
   "cell_type": "markdown",
   "metadata": {},
   "source": [
    "Remove \"None\":"
   ]
  },
  {
   "cell_type": "code",
   "execution_count": 10,
   "metadata": {},
   "outputs": [],
   "source": [
    "fork_langs = [i for i in fork_langs if i != None]"
   ]
  },
  {
   "cell_type": "code",
   "execution_count": 11,
   "metadata": {},
   "outputs": [
    {
     "name": "stdout",
     "output_type": "stream",
     "text": [
      "['Jupyter Notebook', 'HTML']\n"
     ]
    }
   ],
   "source": [
    "print(fork_langs)"
   ]
  },
  {
   "cell_type": "markdown",
   "metadata": {},
   "source": [
    "### Challenge 2: Count Commits"
   ]
  },
  {
   "cell_type": "code",
   "execution_count": 12,
   "metadata": {},
   "outputs": [],
   "source": [
    "url_list = [i.replace('{/sha}','') for i in dataptbcn_repos['commits_url']]"
   ]
  },
  {
   "cell_type": "code",
   "execution_count": 13,
   "metadata": {},
   "outputs": [],
   "source": [
    "commit_count = 0"
   ]
  },
  {
   "cell_type": "code",
   "execution_count": null,
   "metadata": {},
   "outputs": [],
   "source": [
    "for i in range(len(url_list)):\n",
    "    print(f'!curl -u eiroamd:30b17715e062eb37ea1c75124c5728c1032e8709 {url_list[i]} > commit_{i}.json')\n",
    "#Can't get it to execute in the loop, so I copy and paste it"
   ]
  },
  {
   "cell_type": "code",
   "execution_count": 15,
   "metadata": {},
   "outputs": [
    {
     "name": "stdout",
     "output_type": "stream",
     "text": [
      "  % Total    % Received % Xferd  Average Speed   Time    Time     Time  Current\n",
      "                                 Dload  Upload   Total   Spent    Left  Speed\n",
      "100 67293  100 67293    0     0  97667      0 --:--:-- --:--:-- --:--:-- 97526\n",
      "  % Total    % Received % Xferd  Average Speed   Time    Time     Time  Current\n",
      "                                 Dload  Upload   Total   Spent    Left  Speed\n",
      "100 23006  100 23006    0     0  66299      0 --:--:-- --:--:-- --:--:-- 66299\n",
      "  % Total    % Received % Xferd  Average Speed   Time    Time     Time  Current\n",
      "                                 Dload  Upload   Total   Spent    Left  Speed\n",
      "100  8267  100  8267    0     0   9853      0 --:--:-- --:--:-- --:--:--  9841\n",
      "  % Total    % Received % Xferd  Average Speed   Time    Time     Time  Current\n",
      "                                 Dload  Upload   Total   Spent    Left  Speed\n",
      "100 12157  100 12157    0     0  43888      0 --:--:-- --:--:-- --:--:-- 43730\n",
      "  % Total    % Received % Xferd  Average Speed   Time    Time     Time  Current\n",
      "                                 Dload  Upload   Total   Spent    Left  Speed\n",
      "100  8354  100  8354    0     0  24214      0 --:--:-- --:--:-- --:--:-- 24284\n",
      "  % Total    % Received % Xferd  Average Speed   Time    Time     Time  Current\n",
      "                                 Dload  Upload   Total   Spent    Left  Speed\n",
      "100  8236  100  8236    0     0  28013      0 --:--:-- --:--:-- --:--:-- 28013\n",
      "  % Total    % Received % Xferd  Average Speed   Time    Time     Time  Current\n",
      "                                 Dload  Upload   Total   Spent    Left  Speed\n",
      "100  8250  100  8250    0     0  22479      0 --:--:-- --:--:-- --:--:-- 22540\n",
      "  % Total    % Received % Xferd  Average Speed   Time    Time     Time  Current\n",
      "                                 Dload  Upload   Total   Spent    Left  Speed\n",
      "100  8248  100  8248    0     0  19407      0 --:--:-- --:--:-- --:--:-- 19361\n",
      "  % Total    % Received % Xferd  Average Speed   Time    Time     Time  Current\n",
      "                                 Dload  Upload   Total   Spent    Left  Speed\n",
      "100 13084  100 13084    0     0  32874      0 --:--:-- --:--:-- --:--:-- 32874\n",
      "  % Total    % Received % Xferd  Average Speed   Time    Time     Time  Current\n",
      "                                 Dload  Upload   Total   Spent    Left  Speed\n",
      "100 23509  100 23509    0     0  56922      0 --:--:-- --:--:-- --:--:-- 56785\n",
      "  % Total    % Received % Xferd  Average Speed   Time    Time     Time  Current\n",
      "                                 Dload  Upload   Total   Spent    Left  Speed\n",
      "100  8250  100  8250    0     0  21317      0 --:--:-- --:--:-- --:--:-- 21317\n",
      "  % Total    % Received % Xferd  Average Speed   Time    Time     Time  Current\n",
      "                                 Dload  Upload   Total   Spent    Left  Speed\n",
      "100  8289  100  8289    0     0  21870      0 --:--:-- --:--:-- --:--:-- 21813\n",
      "  % Total    % Received % Xferd  Average Speed   Time    Time     Time  Current\n",
      "                                 Dload  Upload   Total   Spent    Left  Speed\n",
      "100  3643  100  3643    0     0   7784      0 --:--:-- --:--:-- --:--:--  7800\n",
      "  % Total    % Received % Xferd  Average Speed   Time    Time     Time  Current\n",
      "                                 Dload  Upload   Total   Spent    Left  Speed\n",
      "100  8146  100  8146    0     0  17041      0 --:--:-- --:--:-- --:--:-- 17006\n",
      "  % Total    % Received % Xferd  Average Speed   Time    Time     Time  Current\n",
      "                                 Dload  Upload   Total   Spent    Left  Speed\n",
      "100  8414  100  8414    0     0  17277      0 --:--:-- --:--:-- --:--:-- 17241\n",
      "  % Total    % Received % Xferd  Average Speed   Time    Time     Time  Current\n",
      "                                 Dload  Upload   Total   Spent    Left  Speed\n",
      "100  8159  100  8159    0     0  23856      0 --:--:-- --:--:-- --:--:-- 23926\n",
      "  % Total    % Received % Xferd  Average Speed   Time    Time     Time  Current\n",
      "                                 Dload  Upload   Total   Spent    Left  Speed\n",
      "100  8272  100  8272    0     0  22914      0 --:--:-- --:--:-- --:--:-- 22850\n",
      "  % Total    % Received % Xferd  Average Speed   Time    Time     Time  Current\n",
      "                                 Dload  Upload   Total   Spent    Left  Speed\n",
      "100  8192  100  8192    0     0  12208      0 --:--:-- --:--:-- --:--:-- 12208\n",
      "  % Total    % Received % Xferd  Average Speed   Time    Time     Time  Current\n",
      "                                 Dload  Upload   Total   Spent    Left  Speed\n",
      "100 15826  100 15826    0     0  19044      0 --:--:-- --:--:-- --:--:-- 19044\n",
      "  % Total    % Received % Xferd  Average Speed   Time    Time     Time  Current\n",
      "                                 Dload  Upload   Total   Spent    Left  Speed\n",
      "100  8211  100  8211    0     0  25579      0 --:--:-- --:--:-- --:--:-- 25579\n",
      "  % Total    % Received % Xferd  Average Speed   Time    Time     Time  Current\n",
      "                                 Dload  Upload   Total   Spent    Left  Speed\n",
      "100  8295  100  8295    0     0  23041      0 --:--:-- --:--:-- --:--:-- 23041\n",
      "  % Total    % Received % Xferd  Average Speed   Time    Time     Time  Current\n",
      "                                 Dload  Upload   Total   Spent    Left  Speed\n",
      "100  3618  100  3618    0     0  10050      0 --:--:-- --:--:-- --:--:-- 10050\n",
      "  % Total    % Received % Xferd  Average Speed   Time    Time     Time  Current\n",
      "                                 Dload  Upload   Total   Spent    Left  Speed\n",
      "100 12154  100 12154    0     0  33482      0 --:--:-- --:--:-- --:--:-- 33482\n",
      "  % Total    % Received % Xferd  Average Speed   Time    Time     Time  Current\n",
      "                                 Dload  Upload   Total   Spent    Left  Speed\n",
      "100 21947  100 21947    0     0  55844      0 --:--:-- --:--:-- --:--:-- 55844\n",
      "  % Total    % Received % Xferd  Average Speed   Time    Time     Time  Current\n",
      "                                 Dload  Upload   Total   Spent    Left  Speed\n",
      "100  8211  100  8211    0     0  12769      0 --:--:-- --:--:-- --:--:-- 12750\n",
      "  % Total    % Received % Xferd  Average Speed   Time    Time     Time  Current\n",
      "                                 Dload  Upload   Total   Spent    Left  Speed\n",
      "100 12869  100 12869    0     0  32253      0 --:--:-- --:--:-- --:--:-- 32253\n"
     ]
    }
   ],
   "source": [
    "!curl -u eiroamd:30b17715e062eb37ea1c75124c5728c1032e8709 https://api.github.com/repos/ta-datapt-bcn/data-prework-labs/commits > commit_0.json\n",
    "!curl -u eiroamd:30b17715e062eb37ea1c75124c5728c1032e8709 https://api.github.com/repos/ta-datapt-bcn/katas_challenge/commits > commit_1.json\n",
    "!curl -u eiroamd:30b17715e062eb37ea1c75124c5728c1032e8709 https://api.github.com/repos/ta-datapt-bcn/lab-advanced-regex/commits > commit_2.json\n",
    "!curl -u eiroamd:30b17715e062eb37ea1c75124c5728c1032e8709 https://api.github.com/repos/ta-datapt-bcn/lab-advanced-sql/commits > commit_3.json\n",
    "!curl -u eiroamd:30b17715e062eb37ea1c75124c5728c1032e8709 https://api.github.com/repos/ta-datapt-bcn/lab-advanced-web-scraping/commits > commit_4.json\n",
    "!curl -u eiroamd:30b17715e062eb37ea1c75124c5728c1032e8709 https://api.github.com/repos/ta-datapt-bcn/lab-API-scavenger/commits > commit_5.json\n",
    "!curl -u eiroamd:30b17715e062eb37ea1c75124c5728c1032e8709 https://api.github.com/repos/ta-datapt-bcn/lab-data-cleaning/commits > commit_6.json\n",
    "!curl -u eiroamd:30b17715e062eb37ea1c75124c5728c1032e8709 https://api.github.com/repos/ta-datapt-bcn/lab-error-handling/commits > commit_7.json\n",
    "!curl -u eiroamd:30b17715e062eb37ea1c75124c5728c1032e8709 https://api.github.com/repos/ta-datapt-bcn/lab-functional-programming/commits > commit_8.json\n",
    "!curl -u eiroamd:30b17715e062eb37ea1c75124c5728c1032e8709 https://api.github.com/repos/ta-datapt-bcn/lab-git-basics-merge-conflicts/commits > commit_9.json\n",
    "!curl -u eiroamd:30b17715e062eb37ea1c75124c5728c1032e8709 https://api.github.com/repos/ta-datapt-bcn/lab-import-export/commits > commit_10.json\n",
    "!curl -u eiroamd:30b17715e062eb37ea1c75124c5728c1032e8709 https://api.github.com/repos/ta-datapt-bcn/lab-lambda-functions/commits > commit_11.json\n",
    "!curl -u eiroamd:30b17715e062eb37ea1c75124c5728c1032e8709 https://api.github.com/repos/ta-datapt-bcn/lab-list-comprehensions/commits > commit_12.json\n",
    "!curl -u eiroamd:30b17715e062eb37ea1c75124c5728c1032e8709 https://api.github.com/repos/ta-datapt-bcn/lab-numpy/commits > commit_13.json\n",
    "!curl -u eiroamd:30b17715e062eb37ea1c75124c5728c1032e8709 https://api.github.com/repos/ta-datapt-bcn/lab-object-oriented-programming/commits > commit_14.json\n",
    "!curl -u eiroamd:30b17715e062eb37ea1c75124c5728c1032e8709 https://api.github.com/repos/ta-datapt-bcn/lab-pandas/commits > commit_15.json\n",
    "!curl -u eiroamd:30b17715e062eb37ea1c75124c5728c1032e8709 https://api.github.com/repos/ta-datapt-bcn/lab-parsing-API-data/commits > commit_16.json\n",
    "!curl -u eiroamd:30b17715e062eb37ea1c75124c5728c1032e8709 https://api.github.com/repos/ta-datapt-bcn/lab-rss-feeds/commits > commit_17.json\n",
    "!curl -u eiroamd:30b17715e062eb37ea1c75124c5728c1032e8709 https://api.github.com/repos/ta-datapt-bcn/lab-sql/commits > commit_18.json\n",
    "!curl -u eiroamd:30b17715e062eb37ea1c75124c5728c1032e8709 https://api.github.com/repos/ta-datapt-bcn/lab-sql-select/commits > commit_19.json\n",
    "!curl -u eiroamd:30b17715e062eb37ea1c75124c5728c1032e8709 https://api.github.com/repos/ta-datapt-bcn/lab-string-operations/commits > commit_20.json\n",
    "!curl -u eiroamd:30b17715e062eb37ea1c75124c5728c1032e8709 https://api.github.com/repos/ta-datapt-bcn/lab-tuple-set-dict/commits > commit_21.json\n",
    "!curl -u eiroamd:30b17715e062eb37ea1c75124c5728c1032e8709 https://api.github.com/repos/ta-datapt-bcn/lab-web-scraping/commits > commit_22.json\n",
    "!curl -u eiroamd:30b17715e062eb37ea1c75124c5728c1032e8709 https://api.github.com/repos/ta-datapt-bcn/labs_with_solutions_students/commits > commit_23.json\n",
    "!curl -u eiroamd:30b17715e062eb37ea1c75124c5728c1032e8709 https://api.github.com/repos/ta-datapt-bcn/project-pandas/commits > commit_24.json\n",
    "!curl -u eiroamd:30b17715e062eb37ea1c75124c5728c1032e8709 https://api.github.com/repos/ta-datapt-bcn/python-project/commits > commit_25.json"
   ]
  },
  {
   "cell_type": "code",
   "execution_count": 16,
   "metadata": {},
   "outputs": [],
   "source": [
    "for i in range(len(url_list)):\n",
    "    file = pd.read_json(f'commit_{i}.json')\n",
    "    i_df = pd.DataFrame(file)\n",
    "    commit_count += len(i_df)"
   ]
  },
  {
   "cell_type": "code",
   "execution_count": 17,
   "metadata": {},
   "outputs": [
    {
     "name": "stdout",
     "output_type": "stream",
     "text": [
      "80\n"
     ]
    }
   ],
   "source": [
    "print(commit_count)"
   ]
  },
  {
   "cell_type": "markdown",
   "metadata": {},
   "source": [
    "### Challenge 3: Hidden Cold Joke"
   ]
  },
  {
   "cell_type": "code",
   "execution_count": 18,
   "metadata": {},
   "outputs": [
    {
     "name": "stdout",
     "output_type": "stream",
     "text": [
      "  % Total    % Received % Xferd  Average Speed   Time    Time     Time  Current\n",
      "                                 Dload  Upload   Total   Spent    Left  Speed\n",
      "100 19342  100 19342    0     0  46272      0 --:--:-- --:--:-- --:--:-- 46272\n"
     ]
    }
   ],
   "source": [
    "!curl -u eiroamd:30b17715e062eb37ea1c75124c5728c1032e8709 https://api.github.com/repos/eiroamd/scavenger/contents/ > chal_3_try1.json"
   ]
  },
  {
   "cell_type": "code",
   "execution_count": 19,
   "metadata": {},
   "outputs": [],
   "source": [
    "chal_3 = pd.read_json('chal_3_try1.json')"
   ]
  },
  {
   "cell_type": "code",
   "execution_count": 20,
   "metadata": {},
   "outputs": [],
   "source": [
    "chal_3 = pd.DataFrame(chal_3)"
   ]
  },
  {
   "cell_type": "code",
   "execution_count": 21,
   "metadata": {},
   "outputs": [
    {
     "data": {
      "text/plain": [
       "Index(['_links', 'download_url', 'git_url', 'html_url', 'name', 'path', 'sha',\n",
       "       'size', 'type', 'url'],\n",
       "      dtype='object')"
      ]
     },
     "execution_count": 21,
     "metadata": {},
     "output_type": "execute_result"
    }
   ],
   "source": [
    "chal_3.columns"
   ]
  },
  {
   "cell_type": "markdown",
   "metadata": {},
   "source": [
    "Get the content for every folder in the repository:"
   ]
  },
  {
   "cell_type": "code",
   "execution_count": 22,
   "metadata": {},
   "outputs": [],
   "source": [
    "url_list = [i for i in chal_3['url'][1:]]"
   ]
  },
  {
   "cell_type": "code",
   "execution_count": null,
   "metadata": {},
   "outputs": [],
   "source": [
    "for i in range(len(url_list)):\n",
    "    print(f'!curl -u eiroamd:30b17715e062eb37ea1c75124c5728c1032e8709 {url_list[i]} > chal3_{i}.json')"
   ]
  },
  {
   "cell_type": "code",
   "execution_count": 24,
   "metadata": {},
   "outputs": [
    {
     "name": "stdout",
     "output_type": "stream",
     "text": [
      "  % Total    % Received % Xferd  Average Speed   Time    Time     Time  Current\n",
      "                                 Dload  Upload   Total   Spent    Left  Speed\n",
      "100  3394  100  3394    0     0   7766      0 --:--:-- --:--:-- --:--:--  7748\n",
      "  % Total    % Received % Xferd  Average Speed   Time    Time     Time  Current\n",
      "                                 Dload  Upload   Total   Spent    Left  Speed\n",
      "100  3506  100  3506    0     0   9685      0 --:--:-- --:--:-- --:--:--  9685\n",
      "  % Total    % Received % Xferd  Average Speed   Time    Time     Time  Current\n",
      "                                 Dload  Upload   Total   Spent    Left  Speed\n",
      "100  2576  100  2576    0     0   4373      0 --:--:-- --:--:-- --:--:--  4366\n",
      "  % Total    % Received % Xferd  Average Speed   Time    Time     Time  Current\n",
      "                                 Dload  Upload   Total   Spent    Left  Speed\n",
      "100  2576  100  2576    0     0   7318      0 --:--:-- --:--:-- --:--:--  7297\n",
      "  % Total    % Received % Xferd  Average Speed   Time    Time     Time  Current\n",
      "                                 Dload  Upload   Total   Spent    Left  Speed\n",
      "100  2576  100  2576    0     0   4410      0 --:--:-- --:--:-- --:--:--  4410\n",
      "  % Total    % Received % Xferd  Average Speed   Time    Time     Time  Current\n",
      "                                 Dload  Upload   Total   Spent    Left  Speed\n",
      "100  2576  100  2576    0     0   7195      0 --:--:-- --:--:-- --:--:--  7195\n",
      "  % Total    % Received % Xferd  Average Speed   Time    Time     Time  Current\n",
      "                                 Dload  Upload   Total   Spent    Left  Speed\n",
      "100  2577  100  2577    0     0   4443      0 --:--:-- --:--:-- --:--:--  4435\n",
      "  % Total    % Received % Xferd  Average Speed   Time    Time     Time  Current\n",
      "                                 Dload  Upload   Total   Spent    Left  Speed\n",
      "100  3506  100  3506    0     0   9154      0 --:--:-- --:--:-- --:--:--  9154\n",
      "  % Total    % Received % Xferd  Average Speed   Time    Time     Time  Current\n",
      "                                 Dload  Upload   Total   Spent    Left  Speed\n",
      "100  2577  100  2577    0     0   4553      0 --:--:-- --:--:-- --:--:--  4544\n",
      "  % Total    % Received % Xferd  Average Speed   Time    Time     Time  Current\n",
      "                                 Dload  Upload   Total   Spent    Left  Speed\n",
      "100  3394  100  3394    0     0   6954      0 --:--:-- --:--:-- --:--:--  6954\n",
      "  % Total    % Received % Xferd  Average Speed   Time    Time     Time  Current\n",
      "                                 Dload  Upload   Total   Spent    Left  Speed\n",
      "100  2569  100  2569    0     0   5524      0 --:--:-- --:--:-- --:--:--  5524\n",
      "  % Total    % Received % Xferd  Average Speed   Time    Time     Time  Current\n",
      "                                 Dload  Upload   Total   Spent    Left  Speed\n",
      "100  2576  100  2576    0     0   9401      0 --:--:-- --:--:-- --:--:--  9401\n",
      "  % Total    % Received % Xferd  Average Speed   Time    Time     Time  Current\n",
      "                                 Dload  Upload   Total   Spent    Left  Speed\n",
      "100  2569  100  2569    0     0   6570      0 --:--:-- --:--:-- --:--:--  6570\n",
      "  % Total    % Received % Xferd  Average Speed   Time    Time     Time  Current\n",
      "                                 Dload  Upload   Total   Spent    Left  Speed\n",
      "100  2569  100  2569    0     0   9657      0 --:--:-- --:--:-- --:--:--  9657\n",
      "  % Total    % Received % Xferd  Average Speed   Time    Time     Time  Current\n",
      "                                 Dload  Upload   Total   Spent    Left  Speed\n",
      "100  2450  100  2450    0     0   6568      0 --:--:-- --:--:-- --:--:--  6550\n",
      "  % Total    % Received % Xferd  Average Speed   Time    Time     Time  Current\n",
      "                                 Dload  Upload   Total   Spent    Left  Speed\n",
      "100  2457  100  2457    0     0   5283      0 --:--:-- --:--:-- --:--:--  5295\n",
      "  % Total    % Received % Xferd  Average Speed   Time    Time     Time  Current\n",
      "                                 Dload  Upload   Total   Spent    Left  Speed\n",
      "100  2576  100  2576    0     0   5551      0 --:--:-- --:--:-- --:--:--  5551\n",
      "  % Total    % Received % Xferd  Average Speed   Time    Time     Time  Current\n",
      "                                 Dload  Upload   Total   Spent    Left  Speed\n",
      "100  3394  100  3394    0     0   9480      0 --:--:-- --:--:-- --:--:--  9454\n",
      "  % Total    % Received % Xferd  Average Speed   Time    Time     Time  Current\n",
      "                                 Dload  Upload   Total   Spent    Left  Speed\n",
      "100  2576  100  2576    0     0   7057      0 --:--:-- --:--:-- --:--:--  7057\n",
      "  % Total    % Received % Xferd  Average Speed   Time    Time     Time  Current\n",
      "                                 Dload  Upload   Total   Spent    Left  Speed\n",
      "100  3394  100  3394    0     0   9222      0 --:--:-- --:--:-- --:--:--  9197\n",
      "  % Total    % Received % Xferd  Average Speed   Time    Time     Time  Current\n",
      "                                 Dload  Upload   Total   Spent    Left  Speed\n",
      "100  2457  100  2457    0     0   6587      0 --:--:-- --:--:-- --:--:--  6587\n",
      "  % Total    % Received % Xferd  Average Speed   Time    Time     Time  Current\n",
      "                                 Dload  Upload   Total   Spent    Left  Speed\n",
      "100  3387  100  3387    0     0   9704      0 --:--:-- --:--:-- --:--:--  9704\n",
      "  % Total    % Received % Xferd  Average Speed   Time    Time     Time  Current\n",
      "                                 Dload  Upload   Total   Spent    Left  Speed\n",
      "100  2576  100  2576    0     0   6690      0 --:--:-- --:--:-- --:--:--  6690\n",
      "  % Total    % Received % Xferd  Average Speed   Time    Time     Time  Current\n",
      "                                 Dload  Upload   Total   Spent    Left  Speed\n",
      "100  3394  100  3394    0     0  10774      0 --:--:-- --:--:-- --:--:-- 10740\n",
      "  % Total    % Received % Xferd  Average Speed   Time    Time     Time  Current\n",
      "                                 Dload  Upload   Total   Spent    Left  Speed\n",
      "100  2576  100  2576    0     0   4115      0 --:--:-- --:--:-- --:--:--  4115\n"
     ]
    }
   ],
   "source": [
    "!curl -u eiroamd:30b17715e062eb37ea1c75124c5728c1032e8709 https://api.github.com/repos/EiroaMD/scavenger/contents/15024?ref=master > chal3_0.json\n",
    "!curl -u eiroamd:30b17715e062eb37ea1c75124c5728c1032e8709 https://api.github.com/repos/EiroaMD/scavenger/contents/15534?ref=master > chal3_1.json\n",
    "!curl -u eiroamd:30b17715e062eb37ea1c75124c5728c1032e8709 https://api.github.com/repos/EiroaMD/scavenger/contents/17020?ref=master > chal3_2.json\n",
    "!curl -u eiroamd:30b17715e062eb37ea1c75124c5728c1032e8709 https://api.github.com/repos/EiroaMD/scavenger/contents/30351?ref=master > chal3_3.json\n",
    "!curl -u eiroamd:30b17715e062eb37ea1c75124c5728c1032e8709 https://api.github.com/repos/EiroaMD/scavenger/contents/40303?ref=master > chal3_4.json\n",
    "!curl -u eiroamd:30b17715e062eb37ea1c75124c5728c1032e8709 https://api.github.com/repos/EiroaMD/scavenger/contents/44639?ref=master > chal3_5.json\n",
    "!curl -u eiroamd:30b17715e062eb37ea1c75124c5728c1032e8709 https://api.github.com/repos/EiroaMD/scavenger/contents/45525?ref=master > chal3_6.json\n",
    "!curl -u eiroamd:30b17715e062eb37ea1c75124c5728c1032e8709 https://api.github.com/repos/EiroaMD/scavenger/contents/47222?ref=master > chal3_7.json\n",
    "!curl -u eiroamd:30b17715e062eb37ea1c75124c5728c1032e8709 https://api.github.com/repos/EiroaMD/scavenger/contents/47830?ref=master > chal3_8.json\n",
    "!curl -u eiroamd:30b17715e062eb37ea1c75124c5728c1032e8709 https://api.github.com/repos/EiroaMD/scavenger/contents/49418?ref=master > chal3_9.json\n",
    "!curl -u eiroamd:30b17715e062eb37ea1c75124c5728c1032e8709 https://api.github.com/repos/EiroaMD/scavenger/contents/50896?ref=master > chal3_10.json\n",
    "!curl -u eiroamd:30b17715e062eb37ea1c75124c5728c1032e8709 https://api.github.com/repos/EiroaMD/scavenger/contents/55417?ref=master > chal3_11.json\n",
    "!curl -u eiroamd:30b17715e062eb37ea1c75124c5728c1032e8709 https://api.github.com/repos/EiroaMD/scavenger/contents/55685?ref=master > chal3_12.json\n",
    "!curl -u eiroamd:30b17715e062eb37ea1c75124c5728c1032e8709 https://api.github.com/repos/EiroaMD/scavenger/contents/60224?ref=master > chal3_13.json\n",
    "!curl -u eiroamd:30b17715e062eb37ea1c75124c5728c1032e8709 https://api.github.com/repos/EiroaMD/scavenger/contents/64880?ref=master > chal3_14.json\n",
    "!curl -u eiroamd:30b17715e062eb37ea1c75124c5728c1032e8709 https://api.github.com/repos/EiroaMD/scavenger/contents/66032?ref=master > chal3_15.json\n",
    "!curl -u eiroamd:30b17715e062eb37ea1c75124c5728c1032e8709 https://api.github.com/repos/EiroaMD/scavenger/contents/68848?ref=master > chal3_16.json\n",
    "!curl -u eiroamd:30b17715e062eb37ea1c75124c5728c1032e8709 https://api.github.com/repos/EiroaMD/scavenger/contents/70751?ref=master > chal3_17.json\n",
    "!curl -u eiroamd:30b17715e062eb37ea1c75124c5728c1032e8709 https://api.github.com/repos/EiroaMD/scavenger/contents/70985?ref=master > chal3_18.json\n",
    "!curl -u eiroamd:30b17715e062eb37ea1c75124c5728c1032e8709 https://api.github.com/repos/EiroaMD/scavenger/contents/88596?ref=master > chal3_19.json\n",
    "!curl -u eiroamd:30b17715e062eb37ea1c75124c5728c1032e8709 https://api.github.com/repos/EiroaMD/scavenger/contents/89046?ref=master > chal3_20.json\n",
    "!curl -u eiroamd:30b17715e062eb37ea1c75124c5728c1032e8709 https://api.github.com/repos/EiroaMD/scavenger/contents/89338?ref=master > chal3_21.json\n",
    "!curl -u eiroamd:30b17715e062eb37ea1c75124c5728c1032e8709 https://api.github.com/repos/EiroaMD/scavenger/contents/91701?ref=master > chal3_22.json\n",
    "!curl -u eiroamd:30b17715e062eb37ea1c75124c5728c1032e8709 https://api.github.com/repos/EiroaMD/scavenger/contents/97881?ref=master > chal3_23.json\n",
    "!curl -u eiroamd:30b17715e062eb37ea1c75124c5728c1032e8709 https://api.github.com/repos/EiroaMD/scavenger/contents/98750?ref=master > chal3_24.json"
   ]
  },
  {
   "cell_type": "markdown",
   "metadata": {},
   "source": [
    "Concat the json files for every folder in the same dataframe:"
   ]
  },
  {
   "cell_type": "code",
   "execution_count": 25,
   "metadata": {},
   "outputs": [],
   "source": [
    "def process_file(file):\n",
    "    f = pd.read_json(file)\n",
    "    df = pd.DataFrame(f)\n",
    "    return df"
   ]
  },
  {
   "cell_type": "code",
   "execution_count": 26,
   "metadata": {},
   "outputs": [],
   "source": [
    "file_list = [f'chal3_{i}.json' for i in range(len(url_list))]"
   ]
  },
  {
   "cell_type": "code",
   "execution_count": 27,
   "metadata": {},
   "outputs": [],
   "source": [
    "frames = [process_file(f) for f in file_list]\n",
    "files_df = pd.concat(frames)"
   ]
  },
  {
   "cell_type": "code",
   "execution_count": 28,
   "metadata": {},
   "outputs": [
    {
     "data": {
      "text/html": [
       "<div>\n",
       "<style scoped>\n",
       "    .dataframe tbody tr th:only-of-type {\n",
       "        vertical-align: middle;\n",
       "    }\n",
       "\n",
       "    .dataframe tbody tr th {\n",
       "        vertical-align: top;\n",
       "    }\n",
       "\n",
       "    .dataframe thead th {\n",
       "        text-align: right;\n",
       "    }\n",
       "</style>\n",
       "<table border=\"1\" class=\"dataframe\">\n",
       "  <thead>\n",
       "    <tr style=\"text-align: right;\">\n",
       "      <th></th>\n",
       "      <th>_links</th>\n",
       "      <th>download_url</th>\n",
       "      <th>git_url</th>\n",
       "      <th>html_url</th>\n",
       "      <th>name</th>\n",
       "      <th>path</th>\n",
       "      <th>sha</th>\n",
       "      <th>size</th>\n",
       "      <th>type</th>\n",
       "      <th>url</th>\n",
       "    </tr>\n",
       "  </thead>\n",
       "  <tbody>\n",
       "    <tr>\n",
       "      <th>0</th>\n",
       "      <td>{'self': 'https://api.github.com/repos/EiroaMD...</td>\n",
       "      <td>https://raw.githubusercontent.com/EiroaMD/scav...</td>\n",
       "      <td>https://api.github.com/repos/EiroaMD/scavenger...</td>\n",
       "      <td>https://github.com/EiroaMD/scavenger/blob/mast...</td>\n",
       "      <td>.0006.scavengerhunt</td>\n",
       "      <td>15024/.0006.scavengerhunt</td>\n",
       "      <td>1c9064284a24b3486015eafdb391b141c27ada2b</td>\n",
       "      <td>3</td>\n",
       "      <td>file</td>\n",
       "      <td>https://api.github.com/repos/EiroaMD/scavenger...</td>\n",
       "    </tr>\n",
       "    <tr>\n",
       "      <th>1</th>\n",
       "      <td>{'self': 'https://api.github.com/repos/EiroaMD...</td>\n",
       "      <td>https://raw.githubusercontent.com/EiroaMD/scav...</td>\n",
       "      <td>https://api.github.com/repos/EiroaMD/scavenger...</td>\n",
       "      <td>https://github.com/EiroaMD/scavenger/blob/mast...</td>\n",
       "      <td>40</td>\n",
       "      <td>15024/40</td>\n",
       "      <td>e69de29bb2d1d6434b8b29ae775ad8c2e48c5391</td>\n",
       "      <td>0</td>\n",
       "      <td>file</td>\n",
       "      <td>https://api.github.com/repos/EiroaMD/scavenger...</td>\n",
       "    </tr>\n",
       "    <tr>\n",
       "      <th>2</th>\n",
       "      <td>{'self': 'https://api.github.com/repos/EiroaMD...</td>\n",
       "      <td>https://raw.githubusercontent.com/EiroaMD/scav...</td>\n",
       "      <td>https://api.github.com/repos/EiroaMD/scavenger...</td>\n",
       "      <td>https://github.com/EiroaMD/scavenger/blob/mast...</td>\n",
       "      <td>74</td>\n",
       "      <td>15024/74</td>\n",
       "      <td>e69de29bb2d1d6434b8b29ae775ad8c2e48c5391</td>\n",
       "      <td>0</td>\n",
       "      <td>file</td>\n",
       "      <td>https://api.github.com/repos/EiroaMD/scavenger...</td>\n",
       "    </tr>\n",
       "    <tr>\n",
       "      <th>3</th>\n",
       "      <td>{'self': 'https://api.github.com/repos/EiroaMD...</td>\n",
       "      <td>https://raw.githubusercontent.com/EiroaMD/scav...</td>\n",
       "      <td>https://api.github.com/repos/EiroaMD/scavenger...</td>\n",
       "      <td>https://github.com/EiroaMD/scavenger/blob/mast...</td>\n",
       "      <td>99</td>\n",
       "      <td>15024/99</td>\n",
       "      <td>e69de29bb2d1d6434b8b29ae775ad8c2e48c5391</td>\n",
       "      <td>0</td>\n",
       "      <td>file</td>\n",
       "      <td>https://api.github.com/repos/EiroaMD/scavenger...</td>\n",
       "    </tr>\n",
       "    <tr>\n",
       "      <th>0</th>\n",
       "      <td>{'self': 'https://api.github.com/repos/EiroaMD...</td>\n",
       "      <td>https://raw.githubusercontent.com/EiroaMD/scav...</td>\n",
       "      <td>https://api.github.com/repos/EiroaMD/scavenger...</td>\n",
       "      <td>https://github.com/EiroaMD/scavenger/blob/mast...</td>\n",
       "      <td>.0008.scavengerhunt</td>\n",
       "      <td>15534/.0008.scavengerhunt</td>\n",
       "      <td>e351fb73264581ce26504b97ef07daea35116f32</td>\n",
       "      <td>6</td>\n",
       "      <td>file</td>\n",
       "      <td>https://api.github.com/repos/EiroaMD/scavenger...</td>\n",
       "    </tr>\n",
       "  </tbody>\n",
       "</table>\n",
       "</div>"
      ],
      "text/plain": [
       "                                              _links  \\\n",
       "0  {'self': 'https://api.github.com/repos/EiroaMD...   \n",
       "1  {'self': 'https://api.github.com/repos/EiroaMD...   \n",
       "2  {'self': 'https://api.github.com/repos/EiroaMD...   \n",
       "3  {'self': 'https://api.github.com/repos/EiroaMD...   \n",
       "0  {'self': 'https://api.github.com/repos/EiroaMD...   \n",
       "\n",
       "                                        download_url  \\\n",
       "0  https://raw.githubusercontent.com/EiroaMD/scav...   \n",
       "1  https://raw.githubusercontent.com/EiroaMD/scav...   \n",
       "2  https://raw.githubusercontent.com/EiroaMD/scav...   \n",
       "3  https://raw.githubusercontent.com/EiroaMD/scav...   \n",
       "0  https://raw.githubusercontent.com/EiroaMD/scav...   \n",
       "\n",
       "                                             git_url  \\\n",
       "0  https://api.github.com/repos/EiroaMD/scavenger...   \n",
       "1  https://api.github.com/repos/EiroaMD/scavenger...   \n",
       "2  https://api.github.com/repos/EiroaMD/scavenger...   \n",
       "3  https://api.github.com/repos/EiroaMD/scavenger...   \n",
       "0  https://api.github.com/repos/EiroaMD/scavenger...   \n",
       "\n",
       "                                            html_url                 name  \\\n",
       "0  https://github.com/EiroaMD/scavenger/blob/mast...  .0006.scavengerhunt   \n",
       "1  https://github.com/EiroaMD/scavenger/blob/mast...                   40   \n",
       "2  https://github.com/EiroaMD/scavenger/blob/mast...                   74   \n",
       "3  https://github.com/EiroaMD/scavenger/blob/mast...                   99   \n",
       "0  https://github.com/EiroaMD/scavenger/blob/mast...  .0008.scavengerhunt   \n",
       "\n",
       "                        path                                       sha  size  \\\n",
       "0  15024/.0006.scavengerhunt  1c9064284a24b3486015eafdb391b141c27ada2b     3   \n",
       "1                   15024/40  e69de29bb2d1d6434b8b29ae775ad8c2e48c5391     0   \n",
       "2                   15024/74  e69de29bb2d1d6434b8b29ae775ad8c2e48c5391     0   \n",
       "3                   15024/99  e69de29bb2d1d6434b8b29ae775ad8c2e48c5391     0   \n",
       "0  15534/.0008.scavengerhunt  e351fb73264581ce26504b97ef07daea35116f32     6   \n",
       "\n",
       "   type                                                url  \n",
       "0  file  https://api.github.com/repos/EiroaMD/scavenger...  \n",
       "1  file  https://api.github.com/repos/EiroaMD/scavenger...  \n",
       "2  file  https://api.github.com/repos/EiroaMD/scavenger...  \n",
       "3  file  https://api.github.com/repos/EiroaMD/scavenger...  \n",
       "0  file  https://api.github.com/repos/EiroaMD/scavenger...  "
      ]
     },
     "execution_count": 28,
     "metadata": {},
     "output_type": "execute_result"
    }
   ],
   "source": [
    "files_df.head()"
   ]
  },
  {
   "cell_type": "markdown",
   "metadata": {},
   "source": [
    "Filter to find the 'scavengerhunt' files:"
   ]
  },
  {
   "cell_type": "code",
   "execution_count": 29,
   "metadata": {},
   "outputs": [],
   "source": [
    "scavenger_files = files_df[['name','html_url']].loc[files_df['name'].str.contains('scavengerhunt',na=False)]"
   ]
  },
  {
   "cell_type": "markdown",
   "metadata": {},
   "source": [
    "Order ascending and reset index:"
   ]
  },
  {
   "cell_type": "code",
   "execution_count": 30,
   "metadata": {},
   "outputs": [],
   "source": [
    "scavenger_files = scavenger_files.sort_values(by='name')"
   ]
  },
  {
   "cell_type": "code",
   "execution_count": 31,
   "metadata": {},
   "outputs": [],
   "source": [
    "scavenger_files = scavenger_files.reset_index(drop=True)"
   ]
  },
  {
   "cell_type": "code",
   "execution_count": 32,
   "metadata": {},
   "outputs": [
    {
     "data": {
      "text/html": [
       "<div>\n",
       "<style scoped>\n",
       "    .dataframe tbody tr th:only-of-type {\n",
       "        vertical-align: middle;\n",
       "    }\n",
       "\n",
       "    .dataframe tbody tr th {\n",
       "        vertical-align: top;\n",
       "    }\n",
       "\n",
       "    .dataframe thead th {\n",
       "        text-align: right;\n",
       "    }\n",
       "</style>\n",
       "<table border=\"1\" class=\"dataframe\">\n",
       "  <thead>\n",
       "    <tr style=\"text-align: right;\">\n",
       "      <th></th>\n",
       "      <th>name</th>\n",
       "      <th>html_url</th>\n",
       "    </tr>\n",
       "  </thead>\n",
       "  <tbody>\n",
       "    <tr>\n",
       "      <th>0</th>\n",
       "      <td>.0001.scavengerhunt</td>\n",
       "      <td>https://github.com/EiroaMD/scavenger/blob/mast...</td>\n",
       "    </tr>\n",
       "    <tr>\n",
       "      <th>1</th>\n",
       "      <td>.0002.scavengerhunt</td>\n",
       "      <td>https://github.com/EiroaMD/scavenger/blob/mast...</td>\n",
       "    </tr>\n",
       "    <tr>\n",
       "      <th>2</th>\n",
       "      <td>.0003.scavengerhunt</td>\n",
       "      <td>https://github.com/EiroaMD/scavenger/blob/mast...</td>\n",
       "    </tr>\n",
       "    <tr>\n",
       "      <th>3</th>\n",
       "      <td>.0004.scavengerhunt</td>\n",
       "      <td>https://github.com/EiroaMD/scavenger/blob/mast...</td>\n",
       "    </tr>\n",
       "    <tr>\n",
       "      <th>4</th>\n",
       "      <td>.0005.scavengerhunt</td>\n",
       "      <td>https://github.com/EiroaMD/scavenger/blob/mast...</td>\n",
       "    </tr>\n",
       "  </tbody>\n",
       "</table>\n",
       "</div>"
      ],
      "text/plain": [
       "                  name                                           html_url\n",
       "0  .0001.scavengerhunt  https://github.com/EiroaMD/scavenger/blob/mast...\n",
       "1  .0002.scavengerhunt  https://github.com/EiroaMD/scavenger/blob/mast...\n",
       "2  .0003.scavengerhunt  https://github.com/EiroaMD/scavenger/blob/mast...\n",
       "3  .0004.scavengerhunt  https://github.com/EiroaMD/scavenger/blob/mast...\n",
       "4  .0005.scavengerhunt  https://github.com/EiroaMD/scavenger/blob/mast..."
      ]
     },
     "execution_count": 32,
     "metadata": {},
     "output_type": "execute_result"
    }
   ],
   "source": [
    "scavenger_files.head()"
   ]
  },
  {
   "cell_type": "code",
   "execution_count": 33,
   "metadata": {},
   "outputs": [
    {
     "data": {
      "text/plain": [
       "'https://github.com/EiroaMD/scavenger/blob/master/98750/.0001.scavengerhunt'"
      ]
     },
     "execution_count": 33,
     "metadata": {},
     "output_type": "execute_result"
    }
   ],
   "source": [
    "scavenger_files['html_url'][0]"
   ]
  },
  {
   "cell_type": "markdown",
   "metadata": {},
   "source": [
    "Read content, parse it, and append it to a list:"
   ]
  },
  {
   "cell_type": "code",
   "execution_count": 34,
   "metadata": {},
   "outputs": [],
   "source": [
    "def scavenger_parser(url):\n",
    "    html = requests.get(url).content\n",
    "    soup = BeautifulSoup(html,'lxml')\n",
    "    words = soup.find_all('td',{'class':\"blob-code blob-code-inner js-file-line\"})\n",
    "    names = [word.get_text() for word in words]\n",
    "    return names"
   ]
  },
  {
   "cell_type": "code",
   "execution_count": 35,
   "metadata": {},
   "outputs": [],
   "source": [
    "joke_list = [scavenger_parser(i) for i in scavenger_files['html_url']]"
   ]
  },
  {
   "cell_type": "markdown",
   "metadata": {},
   "source": [
    "Flatten list and turn it to string:"
   ]
  },
  {
   "cell_type": "code",
   "execution_count": 36,
   "metadata": {},
   "outputs": [],
   "source": [
    "flatten = [i for sublist in joke_list for i in sublist]"
   ]
  },
  {
   "cell_type": "code",
   "execution_count": 37,
   "metadata": {},
   "outputs": [
    {
     "data": {
      "text/plain": [
       "'In data science, 80 percent of time spent is preparing data, 20 percent of time is spent complaining about the need to prepare data.'"
      ]
     },
     "execution_count": 37,
     "metadata": {},
     "output_type": "execute_result"
    }
   ],
   "source": [
    "' '.join(flatten)"
   ]
  },
  {
   "cell_type": "markdown",
   "metadata": {},
   "source": [
    "## 'In data science, 80 percent of time spent is preparing data, 20 percent of time is spent complaining about the need to prepare data.'"
   ]
  }
 ],
 "metadata": {
  "kernelspec": {
   "display_name": "Python 3",
   "language": "python",
   "name": "python3"
  },
  "language_info": {
   "codemirror_mode": {
    "name": "ipython",
    "version": 3
   },
   "file_extension": ".py",
   "mimetype": "text/x-python",
   "name": "python",
   "nbconvert_exporter": "python",
   "pygments_lexer": "ipython3",
   "version": "3.7.4"
  },
  "varInspector": {
   "cols": {
    "lenName": 16,
    "lenType": 16,
    "lenVar": 40
   },
   "kernels_config": {
    "python": {
     "delete_cmd_postfix": "",
     "delete_cmd_prefix": "del ",
     "library": "var_list.py",
     "varRefreshCmd": "print(var_dic_list())"
    },
    "r": {
     "delete_cmd_postfix": ") ",
     "delete_cmd_prefix": "rm(",
     "library": "var_list.r",
     "varRefreshCmd": "cat(var_dic_list()) "
    }
   },
   "types_to_exclude": [
    "module",
    "function",
    "builtin_function_or_method",
    "instance",
    "_Feature"
   ],
   "window_display": false
  }
 },
 "nbformat": 4,
 "nbformat_minor": 2
}
